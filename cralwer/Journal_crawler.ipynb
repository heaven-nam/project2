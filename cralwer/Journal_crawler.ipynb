{
 "cells": [
  {
   "cell_type": "code",
   "execution_count": 88,
   "id": "a1ddf0e9",
   "metadata": {},
   "outputs": [],
   "source": [
    "url = 'https://scholar.google.com/scholar'"
   ]
  },
  {
   "cell_type": "code",
   "execution_count": 70,
   "id": "d5bf0e8e",
   "metadata": {},
   "outputs": [],
   "source": [
    "headers = {'User-Agent':'Mozilla/5.0 (Macintosh; Intel Mac OS X 10_15_7) AppleWebKit/537.36 (KHTML, like Gecko) Chrome/107.0.0.0 Safari/537.36'}"
   ]
  },
  {
   "cell_type": "code",
   "execution_count": 71,
   "id": "82aec267",
   "metadata": {},
   "outputs": [],
   "source": [
    "resp = get(url, params=params, headers = headers)"
   ]
  },
  {
   "cell_type": "code",
   "execution_count": 18,
   "id": "2df19347",
   "metadata": {},
   "outputs": [],
   "source": [
    "dom = BeautifulSoup(resp.text, 'html.parser')"
   ]
  },
  {
   "cell_type": "code",
   "execution_count": 73,
   "id": "b455e6db",
   "metadata": {},
   "outputs": [],
   "source": [
    "hs = dom.select('h3.gs_rt')"
   ]
  },
  {
   "cell_type": "code",
   "execution_count": 165,
   "id": "49e03c8e",
   "metadata": {},
   "outputs": [
    {
     "name": "stdout",
     "output_type": "stream",
     "text": [
      "0\n",
      "2004\n",
      "1983\n",
      "2005\n",
      "2020\n",
      "2015\n",
      "https://royalsocietypublishing.org/doi/abs/10.1098/rspa.1929.0151\n",
      "1929\n",
      "https://ieeexplore.ieee.org/abstract/document/1456701/\n",
      "1982\n",
      "2014\n",
      "https://link.springer.com/article/10.1007/BF02546511\n",
      "1930\n",
      "1999\n",
      "1\n",
      "2003\n",
      "1986\n",
      "https://www.sciencedirect.com/science/article/pii/S1364032117306226\n",
      "2017\n",
      "https://www.sciencedirect.com/science/article/pii/0022123673900013\n",
      "1973\n",
      "https://www.degruyter.com/document/doi/10.1515/9781400882427/html\n",
      "2016\n",
      "https://www.sciencedirect.com/science/article/pii/S1063520398902482\n",
      "1999\n",
      "https://ieeexplore.ieee.org/abstract/document/720544/\n",
      "1998\n",
      "https://www.cambridge.org/core/journals/mathematical-proceedings-of-the-cambridge-philosophical-society/article/studies-in-harmonic-analysis/F9B6E9221D58395CA7063081057749A4\n",
      "1964\n",
      "https://apps.dtic.mil/sti/citations/ADA104178\n",
      "1981\n",
      "https://projecteuclid.org/journalArticle/Download?urlId=bams%2F1183541467\n",
      "1978\n",
      "2\n",
      "2012\n",
      "1997\n",
      "https://ieeexplore.ieee.org/abstract/document/1455106/\n",
      "1978\n",
      "https://www.sciencedirect.com/science/article/pii/S0022123602001490\n",
      "2003\n",
      "2010\n",
      "2008\n",
      "https://ems.press/journals/rmi/articles/4987\n",
      "2003\n",
      "2012\n",
      "https://www.sciencedirect.com/science/article/pii/B9780125098502500105\n",
      "1971\n",
      "https://projecteuclid.org/ebook/Download?urlid=pcma/1416323534&isFullBook=false\n",
      "1996\n"
     ]
    }
   ],
   "source": [
    "pages = list()\n",
    "for i in range(3):\n",
    "    pages.append(0+10*i)\n",
    "for k in range(len(pages)):\n",
    "    print(k)\n",
    "    params['start'] = pages[k]\n",
    "    resp = get(url, params=params, headers = headers)\n",
    "    dom = BeautifulSoup(resp.text, 'html.parser')\n",
    "    divs = dom.find_all('div',attrs={'class':'gs_ri'})\n",
    "    for div in divs:\n",
    "        h =  div.find('h3',attrs={'class':'gs_rt'})\n",
    "\n",
    "        if h.find('span',attrs={'class':'gs_ctc'}) == None or '책' not in h.find('span',attrs={'class':'gs_ctc'}).text:\n",
    "            print(h.find('a').attrs['href'])\n",
    "        subDiv = div.find('div',attrs={'class':'gs_a'})\n",
    "        print(re.search('([0-9]{4})',subDiv.text).group())"
   ]
  },
  {
   "cell_type": "code",
   "execution_count": 115,
   "id": "e860a6a1",
   "metadata": {},
   "outputs": [
    {
     "name": "stdout",
     "output_type": "stream",
     "text": [
      "Collecting pdfminer.six\n",
      "  Downloading pdfminer.six-20221105-py3-none-any.whl (5.6 MB)\n",
      "\u001B[2K     \u001B[90m━━━━━━━━━━━━━━━━━━━━━━━━━━━━━━━━━━━━━━━━\u001B[0m \u001B[32m5.6/5.6 MB\u001B[0m \u001B[31m13.1 MB/s\u001B[0m eta \u001B[36m0:00:00\u001B[0ma \u001B[36m0:00:01\u001B[0m\n",
      "\u001B[?25hRequirement already satisfied: cryptography>=36.0.0 in /Users/jhlee/miniconda3/envs/tf/lib/python3.8/site-packages (from pdfminer.six) (37.0.1)\n",
      "Requirement already satisfied: charset-normalizer>=2.0.0 in /Users/jhlee/miniconda3/envs/tf/lib/python3.8/site-packages (from pdfminer.six) (2.1.1)\n",
      "Requirement already satisfied: cffi>=1.12 in /Users/jhlee/miniconda3/envs/tf/lib/python3.8/site-packages (from cryptography>=36.0.0->pdfminer.six) (1.15.1)\n",
      "Requirement already satisfied: pycparser in /Users/jhlee/miniconda3/envs/tf/lib/python3.8/site-packages (from cffi>=1.12->cryptography>=36.0.0->pdfminer.six) (2.21)\n",
      "Installing collected packages: pdfminer.six\n",
      "Successfully installed pdfminer.six-20221105\n"
     ]
    }
   ],
   "source": [
    "!pip install pdfminer.six"
   ]
  },
  {
   "cell_type": "code",
   "execution_count": 116,
   "id": "f069eedc",
   "metadata": {},
   "outputs": [],
   "source": [
    "import pdfminer\n",
    "from pdfminer.high_level import extract_text"
   ]
  },
  {
   "cell_type": "code",
   "execution_count": 119,
   "id": "929db0aa",
   "metadata": {},
   "outputs": [],
   "source": [
    "text = extract_text('./test2.pdf')"
   ]
  },
  {
   "cell_type": "code",
   "execution_count": 120,
   "id": "be6fb432",
   "metadata": {},
   "outputs": [
    {
     "data": {
      "text/plain": [
       "'ImageNet Classiﬁcation with Deep Convolutional\\nNeural Networks\\n\\nAlex Krizhevsky\\nUniversity of Toronto\\nkriz@cs.utoronto.ca\\n\\nIlya Sutskever\\nUniversity of Toronto\\nilya@cs.utoronto.ca\\n\\nGeoffrey E. Hinton\\nUniversity of Toronto\\nhinton@cs.utoronto.ca\\n\\nAbstract\\n\\nWe trained a large, deep convolutional neural network to classify the 1.2 million\\nhigh-resolution images in the ImageNet LSVRC-2010 contest into the 1000 dif-\\nferent classes. On the test data, we achieved top-1 and top-5 error rates of 37.5%\\nand 17.0% which is considerably better than the previous state-of-the-art. The\\nneural network, which has 60 million parameters and 650,000 neurons, consists\\nof ﬁve convolutional layers, some of which are followed by max-pooling layers,\\nand three fully-connected layers with a ﬁnal 1000-way softmax. To make train-\\ning faster, we used non-saturating neurons and a very efﬁcient GPU implemen-\\ntation of the convolution operation. To reduce overﬁtting in the fully-connected\\nlayers we employed a recently-developed regularization method called “dropout”\\nthat proved to be very effective. We also entered a variant of this model in the\\nILSVRC-2012 competition and achieved a winning top-5 test error rate of 15.3%,\\ncompared to 26.2% achieved by the second-best entry.\\n\\n1\\n\\nIntroduction\\n\\nCurrent approaches to object recognition make essential use of machine learning methods. To im-\\nprove their performance, we can collect larger datasets, learn more powerful models, and use bet-\\nter techniques for preventing overﬁtting. Until recently, datasets of labeled images were relatively\\nsmall — on the order of tens of thousands of images (e.g., NORB [16], Caltech-101/256 [8, 9], and\\nCIFAR-10/100 [12]). Simple recognition tasks can be solved quite well with datasets of this size,\\nespecially if they are augmented with label-preserving transformations. For example, the current-\\nbest error rate on the MNIST digit-recognition task (<0.3%) approaches human performance [4].\\nBut objects in realistic settings exhibit considerable variability, so to learn to recognize them it is\\nnecessary to use much larger training sets. And indeed, the shortcomings of small image datasets\\nhave been widely recognized (e.g., Pinto et al. [21]), but it has only recently become possible to col-\\nlect labeled datasets with millions of images. The new larger datasets include LabelMe [23], which\\nconsists of hundreds of thousands of fully-segmented images, and ImageNet [6], which consists of\\nover 15 million labeled high-resolution images in over 22,000 categories.\\n\\nTo learn about thousands of objects from millions of images, we need a model with a large learning\\ncapacity. However, the immense complexity of the object recognition task means that this prob-\\nlem cannot be speciﬁed even by a dataset as large as ImageNet, so our model should also have lots\\nof prior knowledge to compensate for all the data we don’t have. Convolutional neural networks\\n(CNNs) constitute one such class of models [16, 11, 13, 18, 15, 22, 26]. Their capacity can be con-\\ntrolled by varying their depth and breadth, and they also make strong and mostly correct assumptions\\nabout the nature of images (namely, stationarity of statistics and locality of pixel dependencies).\\nThus, compared to standard feedforward neural networks with similarly-sized layers, CNNs have\\nmuch fewer connections and parameters and so they are easier to train, while their theoretically-best\\nperformance is likely to be only slightly worse.\\n\\n1\\n\\n\\x0cDespite the attractive qualities of CNNs, and despite the relative efﬁciency of their local architecture,\\nthey have still been prohibitively expensive to apply in large scale to high-resolution images. Luck-\\nily, current GPUs, paired with a highly-optimized implementation of 2D convolution, are powerful\\nenough to facilitate the training of interestingly-large CNNs, and recent datasets such as ImageNet\\ncontain enough labeled examples to train such models without severe overﬁtting.\\n\\nThe speciﬁc contributions of this paper are as follows: we trained one of the largest convolutional\\nneural networks to date on the subsets of ImageNet used in the ILSVRC-2010 and ILSVRC-2012\\ncompetitions [2] and achieved by far the best results ever reported on these datasets. We wrote a\\nhighly-optimized GPU implementation of 2D convolution and all the other operations inherent in\\ntraining convolutional neural networks, which we make available publicly1. Our network contains\\na number of new and unusual features which improve its performance and reduce its training time,\\nwhich are detailed in Section 3. The size of our network made overﬁtting a signiﬁcant problem, even\\nwith 1.2 million labeled training examples, so we used several effective techniques for preventing\\noverﬁtting, which are described in Section 4. Our ﬁnal network contains ﬁve convolutional and\\nthree fully-connected layers, and this depth seems to be important: we found that removing any\\nconvolutional layer (each of which contains no more than 1% of the model’s parameters) resulted in\\ninferior performance.\\n\\nIn the end, the network’s size is limited mainly by the amount of memory available on current GPUs\\nand by the amount of training time that we are willing to tolerate. Our network takes between ﬁve\\nand six days to train on two GTX 580 3GB GPUs. All of our experiments suggest that our results\\ncan be improved simply by waiting for faster GPUs and bigger datasets to become available.\\n\\n2 The Dataset\\n\\nImageNet is a dataset of over 15 million labeled high-resolution images belonging to roughly 22,000\\ncategories. The images were collected from the web and labeled by human labelers using Ama-\\nzon’s Mechanical Turk crowd-sourcing tool. Starting in 2010, as part of the Pascal Visual Object\\nChallenge, an annual competition called the ImageNet Large-Scale Visual Recognition Challenge\\n(ILSVRC) has been held. ILSVRC uses a subset of ImageNet with roughly 1000 images in each of\\n1000 categories. In all, there are roughly 1.2 million training images, 50,000 validation images, and\\n150,000 testing images.\\n\\nILSVRC-2010 is the only version of ILSVRC for which the test set labels are available, so this is\\nthe version on which we performed most of our experiments. Since we also entered our model in\\nthe ILSVRC-2012 competition, in Section 6 we report our results on this version of the dataset as\\nwell, for which test set labels are unavailable. On ImageNet, it is customary to report two error rates:\\ntop-1 and top-5, where the top-5 error rate is the fraction of test images for which the correct label\\nis not among the ﬁve labels considered most probable by the model.\\n\\nImageNet consists of variable-resolution images, while our system requires a constant input dimen-\\nsionality. Therefore, we down-sampled the images to a ﬁxed resolution of 256 × 256. Given a\\nrectangular image, we ﬁrst rescaled the image such that the shorter side was of length 256, and then\\ncropped out the central 256×256 patch from the resulting image. We did not pre-process the images\\nin any other way, except for subtracting the mean activity over the training set from each pixel. So\\nwe trained our network on the (centered) raw RGB values of the pixels.\\n\\n3 The Architecture\\n\\nThe architecture of our network is summarized in Figure 2.\\nIt contains eight learned layers —\\nﬁve convolutional and three fully-connected. Below, we describe some of the novel or unusual\\nfeatures of our network’s architecture. Sections 3.1-3.4 are sorted according to our estimation of\\ntheir importance, with the most important ﬁrst.\\n\\n1http://code.google.com/p/cuda-convnet/\\n\\n2\\n\\n\\x0c3.1 ReLU Nonlinearity\\n\\nThe standard way to model a neuron’s output f as\\na function of its input x is with f (x) = tanh(x)\\nor f (x) = (1 + e−x)−1.\\nIn terms of training time\\nwith gradient descent, these saturating nonlinearities\\nare much slower than the non-saturating nonlinearity\\nf (x) = max(0, x). Following Nair and Hinton [20],\\nwe refer to neurons with this nonlinearity as Rectiﬁed\\nLinear Units (ReLUs). Deep convolutional neural net-\\nworks with ReLUs train several times faster than their\\nequivalents with tanh units. This is demonstrated in\\nFigure 1, which shows the number of iterations re-\\nquired to reach 25% training error on the CIFAR-10\\ndataset for a particular four-layer convolutional net-\\nwork. This plot shows that we would not have been\\nable to experiment with such large neural networks for\\nthis work if we had used traditional saturating neuron\\nmodels.\\n\\nWe are not the ﬁrst to consider alternatives to tradi-\\ntional neuron models in CNNs. For example, Jarrett\\net al. [11] claim that the nonlinearity f (x) = |tanh(x)|\\nworks particularly well with their type of contrast nor-\\nmalization followed by local average pooling on the\\nCaltech-101 dataset. However, on this dataset the pri-\\nmary concern is preventing overﬁtting, so the effect\\nthey are observing is different from the accelerated\\nability to ﬁt the training set which we report when us-\\ning ReLUs. Faster learning has a great inﬂuence on the\\nperformance of large models trained on large datasets.\\n\\n3.2 Training on Multiple GPUs\\n\\nFigure 1: A four-layer convolutional neural\\nnetwork with ReLUs (solid line) reaches a 25%\\ntraining error rate on CIFAR-10 six times faster\\nthan an equivalent network with tanh neurons\\n(dashed line). The learning rates for each net-\\nwork were chosen independently to make train-\\ning as fast as possible. No regularization of\\nany kind was employed. The magnitude of the\\neffect demonstrated here varies with network\\narchitecture, but networks with ReLUs consis-\\ntently learn several times faster than equivalents\\nwith saturating neurons.\\n\\nA single GTX 580 GPU has only 3GB of memory, which limits the maximum size of the networks\\nthat can be trained on it. It turns out that 1.2 million training examples are enough to train networks\\nwhich are too big to ﬁt on one GPU. Therefore we spread the net across two GPUs. Current GPUs\\nare particularly well-suited to cross-GPU parallelization, as they are able to read from and write to\\none another’s memory directly, without going through host machine memory. The parallelization\\nscheme that we employ essentially puts half of the kernels (or neurons) on each GPU, with one\\nadditional trick: the GPUs communicate only in certain layers. This means that, for example, the\\nkernels of layer 3 take input from all kernel maps in layer 2. However, kernels in layer 4 take input\\nonly from those kernel maps in layer 3 which reside on the same GPU. Choosing the pattern of\\nconnectivity is a problem for cross-validation, but this allows us to precisely tune the amount of\\ncommunication until it is an acceptable fraction of the amount of computation.\\n\\nThe resultant architecture is somewhat similar to that of the “columnar” CNN employed by Cire¸san\\net al. [5], except that our columns are not independent (see Figure 2). This scheme reduces our top-1\\nand top-5 error rates by 1.7% and 1.2%, respectively, as compared with a net with half as many\\nkernels in each convolutional layer trained on one GPU. The two-GPU net takes slightly less time\\nto train than the one-GPU net2.\\n\\n2The one-GPU net actually has the same number of kernels as the two-GPU net in the ﬁnal convolutional\\nlayer. This is because most of the net’s parameters are in the ﬁrst fully-connected layer, which takes the last\\nconvolutional layer as input. So to make the two nets have approximately the same number of parameters, we\\ndid not halve the size of the ﬁnal convolutional layer (nor the fully-conneced layers which follow). Therefore\\nthis comparison is biased in favor of the one-GPU net, since it is bigger than “half the size” of the two-GPU\\nnet.\\n\\n3\\n\\n\\x0c3.3 Local Response Normalization\\n\\nReLUs have the desirable property that they do not require input normalization to prevent them\\nfrom saturating. If at least some training examples produce a positive input to a ReLU, learning will\\nhappen in that neuron. However, we still ﬁnd that the following local normalization scheme aids\\ngeneralization. Denoting by ai\\nx,y the activity of a neuron computed by applying kernel i at position\\n(x, y) and then applying the ReLU nonlinearity, the response-normalized activity bi\\nx,y is given by\\nthe expression\\n\\nx,y = ai\\nbi\\n\\nx,y/\\n\\n\\uf8edk + α\\n\\n\\uf8eb\\n\\nmin(N −1,i+n/2)\\n(cid:88)\\n\\n(aj\\n\\nx,y)2\\n\\n\\uf8f8\\n\\n\\uf8f6\\nβ\\n\\nj=max(0,i−n/2)\\n\\nwhere the sum runs over n “adjacent” kernel maps at the same spatial position, and N is the total\\nnumber of kernels in the layer. The ordering of the kernel maps is of course arbitrary and determined\\nbefore training begins. This sort of response normalization implements a form of lateral inhibition\\ninspired by the type found in real neurons, creating competition for big activities amongst neuron\\noutputs computed using different kernels. The constants k, n, α, and β are hyper-parameters whose\\nvalues are determined using a validation set; we used k = 2, n = 5, α = 10−4, and β = 0.75. We\\napplied this normalization after applying the ReLU nonlinearity in certain layers (see Section 3.5).\\n\\nThis scheme bears some resemblance to the local contrast normalization scheme of Jarrett et al. [11],\\nbut ours would be more correctly termed “brightness normalization”, since we do not subtract the\\nmean activity. Response normalization reduces our top-1 and top-5 error rates by 1.4% and 1.2%,\\nrespectively. We also veriﬁed the effectiveness of this scheme on the CIFAR-10 dataset: a four-layer\\nCNN achieved a 13% test error rate without normalization and 11% with normalization3.\\n\\n3.4 Overlapping Pooling\\n\\nPooling layers in CNNs summarize the outputs of neighboring groups of neurons in the same kernel\\nmap. Traditionally, the neighborhoods summarized by adjacent pooling units do not overlap (e.g.,\\n[17, 11, 4]). To be more precise, a pooling layer can be thought of as consisting of a grid of pooling\\nunits spaced s pixels apart, each summarizing a neighborhood of size z × z centered at the location\\nof the pooling unit. If we set s = z, we obtain traditional local pooling as commonly employed\\nin CNNs. If we set s < z, we obtain overlapping pooling. This is what we use throughout our\\nnetwork, with s = 2 and z = 3. This scheme reduces the top-1 and top-5 error rates by 0.4% and\\n0.3%, respectively, as compared with the non-overlapping scheme s = 2, z = 2, which produces\\noutput of equivalent dimensions. We generally observe during training that models with overlapping\\npooling ﬁnd it slightly more difﬁcult to overﬁt.\\n\\n3.5 Overall Architecture\\n\\nNow we are ready to describe the overall architecture of our CNN. As depicted in Figure 2, the net\\ncontains eight layers with weights; the ﬁrst ﬁve are convolutional and the remaining three are fully-\\nconnected. The output of the last fully-connected layer is fed to a 1000-way softmax which produces\\na distribution over the 1000 class labels. Our network maximizes the multinomial logistic regression\\nobjective, which is equivalent to maximizing the average across training cases of the log-probability\\nof the correct label under the prediction distribution.\\n\\nThe kernels of the second, fourth, and ﬁfth convolutional layers are connected only to those kernel\\nmaps in the previous layer which reside on the same GPU (see Figure 2). The kernels of the third\\nconvolutional layer are connected to all kernel maps in the second layer. The neurons in the fully-\\nconnected layers are connected to all neurons in the previous layer. Response-normalization layers\\nfollow the ﬁrst and second convolutional layers. Max-pooling layers, of the kind described in Section\\n3.4, follow both response-normalization layers as well as the ﬁfth convolutional layer. The ReLU\\nnon-linearity is applied to the output of every convolutional and fully-connected layer.\\n\\nThe ﬁrst convolutional layer ﬁlters the 224 × 224 × 3 input image with 96 kernels of size 11 × 11 × 3\\nwith a stride of 4 pixels (this is the distance between the receptive ﬁeld centers of neighboring\\n\\n3We cannot describe this network in detail due to space constraints, but it is speciﬁed precisely by the code\\n\\nand parameter ﬁles provided here: http://code.google.com/p/cuda-convnet/.\\n\\n4\\n\\n\\x0cFigure 2: An illustration of the architecture of our CNN, explicitly showing the delineation of responsibilities\\nbetween the two GPUs. One GPU runs the layer-parts at the top of the ﬁgure while the other runs the layer-parts\\nat the bottom. The GPUs communicate only at certain layers. The network’s input is 150,528-dimensional, and\\nthe number of neurons in the network’s remaining layers is given by 253,440–186,624–64,896–64,896–43,264–\\n4096–4096–1000.\\n\\nneurons in a kernel map). The second convolutional layer takes as input the (response-normalized\\nand pooled) output of the ﬁrst convolutional layer and ﬁlters it with 256 kernels of size 5 × 5 × 48.\\nThe third, fourth, and ﬁfth convolutional layers are connected to one another without any intervening\\npooling or normalization layers. The third convolutional layer has 384 kernels of size 3 × 3 ×\\n256 connected to the (normalized, pooled) outputs of the second convolutional layer. The fourth\\nconvolutional layer has 384 kernels of size 3 × 3 × 192 , and the ﬁfth convolutional layer has 256\\nkernels of size 3 × 3 × 192. The fully-connected layers have 4096 neurons each.\\n\\n4 Reducing Overﬁtting\\n\\nOur neural network architecture has 60 million parameters. Although the 1000 classes of ILSVRC\\nmake each training example impose 10 bits of constraint on the mapping from image to label, this\\nturns out to be insufﬁcient to learn so many parameters without considerable overﬁtting. Below, we\\ndescribe the two primary ways in which we combat overﬁtting.\\n\\n4.1 Data Augmentation\\n\\nThe easiest and most common method to reduce overﬁtting on image data is to artiﬁcially enlarge\\nthe dataset using label-preserving transformations (e.g., [25, 4, 5]). We employ two distinct forms\\nof data augmentation, both of which allow transformed images to be produced from the original\\nimages with very little computation, so the transformed images do not need to be stored on disk.\\nIn our implementation, the transformed images are generated in Python code on the CPU while the\\nGPU is training on the previous batch of images. So these data augmentation schemes are, in effect,\\ncomputationally free.\\n\\nThe ﬁrst form of data augmentation consists of generating image translations and horizontal reﬂec-\\ntions. We do this by extracting random 224 × 224 patches (and their horizontal reﬂections) from the\\n256×256 images and training our network on these extracted patches4. This increases the size of our\\ntraining set by a factor of 2048, though the resulting training examples are, of course, highly inter-\\ndependent. Without this scheme, our network suffers from substantial overﬁtting, which would have\\nforced us to use much smaller networks. At test time, the network makes a prediction by extracting\\nﬁve 224 × 224 patches (the four corner patches and the center patch) as well as their horizontal\\nreﬂections (hence ten patches in all), and averaging the predictions made by the network’s softmax\\nlayer on the ten patches.\\n\\nThe second form of data augmentation consists of altering the intensities of the RGB channels in\\ntraining images. Speciﬁcally, we perform PCA on the set of RGB pixel values throughout the\\nImageNet training set. To each training image, we add multiples of the found principal components,\\n\\n4This is the reason why the input images in Figure 2 are 224 × 224 × 3-dimensional.\\n\\n5\\n\\n\\x0cwith magnitudes proportional to the corresponding eigenvalues times a random variable drawn from\\na Gaussian with mean zero and standard deviation 0.1. Therefore to each RGB image pixel Ixy =\\n[I R\\n\\nxy]T we add the following quantity:\\n\\nxy, I G\\n\\nxy, I B\\n\\n[p1, p2, p3][α1λ1, α2λ2, α3λ3]T\\nwhere pi and λi are ith eigenvector and eigenvalue of the 3 × 3 covariance matrix of RGB pixel\\nvalues, respectively, and αi is the aforementioned random variable. Each αi is drawn only once\\nfor all the pixels of a particular training image until that image is used for training again, at which\\npoint it is re-drawn. This scheme approximately captures an important property of natural images,\\nnamely, that object identity is invariant to changes in the intensity and color of the illumination. This\\nscheme reduces the top-1 error rate by over 1%.\\n\\n4.2 Dropout\\n\\nCombining the predictions of many different models is a very successful way to reduce test errors\\n[1, 3], but it appears to be too expensive for big neural networks that already take several days\\nto train. There is, however, a very efﬁcient version of model combination that only costs about a\\nfactor of two during training. The recently-introduced technique, called “dropout” [10], consists\\nof setting to zero the output of each hidden neuron with probability 0.5. The neurons which are\\n“dropped out” in this way do not contribute to the forward pass and do not participate in back-\\npropagation. So every time an input is presented, the neural network samples a different architecture,\\nbut all these architectures share weights. This technique reduces complex co-adaptations of neurons,\\nsince a neuron cannot rely on the presence of particular other neurons. It is, therefore, forced to\\nlearn more robust features that are useful in conjunction with many different random subsets of the\\nother neurons. At test time, we use all the neurons but multiply their outputs by 0.5, which is a\\nreasonable approximation to taking the geometric mean of the predictive distributions produced by\\nthe exponentially-many dropout networks.\\n\\nWe use dropout in the ﬁrst two fully-connected layers of Figure 2. Without dropout, our network ex-\\nhibits substantial overﬁtting. Dropout roughly doubles the number of iterations required to converge.\\n\\n5 Details of learning\\n\\nWe trained our models using stochastic gradient descent\\nwith a batch size of 128 examples, momentum of 0.9, and\\nweight decay of 0.0005. We found that this small amount\\nof weight decay was important for the model to learn. In\\nother words, weight decay here is not merely a regularizer:\\nit reduces the model’s training error. The update rule for\\nweight w was\\n\\nvi+1\\n\\n:= 0.9 · vi − 0.0005 · (cid:15) · wi − (cid:15) ·\\n\\nwi+1\\n\\n:= wi + vi+1\\n\\n(cid:29)\\n\\n(cid:28) ∂L\\n∂w\\n\\n(cid:12)\\n(cid:12)wi\\n\\nDi\\n\\nFigure 3: 96 convolutional kernels of size\\n11×11×3 learned by the ﬁrst convolutional\\nlayer on the 224×224×3 input images. The\\ntop 48 kernels were learned on GPU 1 while\\nthe bottom 48 kernels were learned on GPU\\n2. See Section 6.1 for details.\\n\\nwhere i is the iteration index, v is the momentum variable, (cid:15) is the learning rate, and\\n\\n(cid:68) ∂L\\n∂w\\n\\n(cid:12)\\n(cid:12)wi\\n\\n(cid:69)\\n\\nthe average over the ith batch Di of the derivative of the objective with respect to w, evaluated at\\nwi.\\n\\nis\\n\\nDi\\n\\nWe initialized the weights in each layer from a zero-mean Gaussian distribution with standard de-\\nviation 0.01. We initialized the neuron biases in the second, fourth, and ﬁfth convolutional layers,\\nas well as in the fully-connected hidden layers, with the constant 1. This initialization accelerates\\nthe early stages of learning by providing the ReLUs with positive inputs. We initialized the neuron\\nbiases in the remaining layers with the constant 0.\\n\\nWe used an equal learning rate for all layers, which we adjusted manually throughout training.\\nThe heuristic which we followed was to divide the learning rate by 10 when the validation error\\nrate stopped improving with the current learning rate. The learning rate was initialized at 0.01 and\\n\\n6\\n\\n\\x0creduced three times prior to termination. We trained the network for roughly 90 cycles through the\\ntraining set of 1.2 million images, which took ﬁve to six days on two NVIDIA GTX 580 3GB GPUs.\\n\\n6 Results\\n\\nOur results on ILSVRC-2010 are summarized in Table 1. Our network achieves top-1 and top-5\\ntest set error rates of 37.5% and 17.0%5. The best performance achieved during the ILSVRC-\\n2010 competition was 47.1% and 28.2% with an approach that averages the predictions produced\\nfrom six sparse-coding models trained on different features [2], and since then the best pub-\\nlished results are 45.7% and 25.7% with an approach that averages the predictions of two classi-\\nﬁers trained on Fisher Vectors (FVs) computed from two types of densely-sampled features [24].\\n\\nTop-1\\nTop-5\\n47.1% 28.2%\\n45.7% 25.7%\\n37.5% 17.0%\\n\\nModel\\nSparse coding [2]\\nSIFT + FVs [24]\\nCNN\\n\\nWe also entered our model in the ILSVRC-2012 com-\\npetition and report our results in Table 2. Since the\\nILSVRC-2012 test set labels are not publicly available,\\nwe cannot report test error rates for all the models that\\nIn the remainder of this paragraph, we use\\nwe tried.\\nvalidation and test error rates interchangeably because\\nin our experience they do not differ by more than 0.1%\\n(see Table 2). The CNN described in this paper achieves\\na top-5 error rate of 18.2%. Averaging the predictions\\nof ﬁve similar CNNs gives an error rate of 16.4%. Training one CNN, with an extra sixth con-\\nvolutional layer over the last pooling layer, to classify the entire ImageNet Fall 2011 release\\n(15M images, 22K categories), and then “ﬁne-tuning” it on ILSVRC-2012 gives an error rate of\\n16.6%. Averaging the predictions of two CNNs that were pre-trained on the entire Fall 2011 re-\\nlease with the aforementioned ﬁve CNNs gives an error rate of 15.3%. The second-best con-\\ntest entry achieved an error rate of 26.2% with an approach that averages the predictions of sev-\\neral classiﬁers trained on FVs computed from different types of densely-sampled features [7].\\n\\nTable 1: Comparison of results on ILSVRC-\\nIn italics are best results\\n2010 test set.\\nachieved by others.\\n\\nModel\\nSIFT + FVs [7]\\n1 CNN\\n5 CNNs\\n1 CNN*\\n7 CNNs*\\n\\nTop-1 (val) Top-5 (val) Top-5 (test)\\n—\\n18.2%\\n16.4%\\n16.6%\\n15.4%\\n\\nFinally, we also report our error\\nrates on the Fall 2009 version of\\nImageNet with 10,184 categories\\nand 8.9 million images. On this\\ndataset we follow the convention\\nin the literature of using half of\\nthe images for training and half\\nfor testing. Since there is no es-\\ntablished test set, our split neces-\\nsarily differs from the splits used\\nby previous authors, but this does\\nnot affect the results appreciably.\\nOur top-1 and top-5 error rates\\non this dataset are 67.4% and\\n40.9%, attained by the net described above but with an additional, sixth convolutional layer over the\\nlast pooling layer. The best published results on this dataset are 78.1% and 60.9% [19].\\n\\nTable 2: Comparison of error rates on ILSVRC-2012 validation and\\ntest sets. In italics are best results achieved by others. Models with an\\nasterisk* were “pre-trained” to classify the entire ImageNet 2011 Fall\\nrelease. See Section 6 for details.\\n\\n26.2%\\n—\\n16.4%\\n—\\n15.3%\\n\\n—\\n40.7%\\n38.1%\\n39.0%\\n36.7%\\n\\n6.1 Qualitative Evaluations\\n\\nFigure 3 shows the convolutional kernels learned by the network’s two data-connected layers. The\\nnetwork has learned a variety of frequency- and orientation-selective kernels, as well as various col-\\nored blobs. Notice the specialization exhibited by the two GPUs, a result of the restricted connec-\\ntivity described in Section 3.5. The kernels on GPU 1 are largely color-agnostic, while the kernels\\non on GPU 2 are largely color-speciﬁc. This kind of specialization occurs during every run and is\\nindependent of any particular random weight initialization (modulo a renumbering of the GPUs).\\n\\n5The error rates without averaging predictions over ten patches as described in Section 4.1 are 39.0% and\\n\\n18.3%.\\n\\n7\\n\\n\\x0cFigure 4: (Left) Eight ILSVRC-2010 test images and the ﬁve labels considered most probable by our model.\\nThe correct label is written under each image, and the probability assigned to the correct label is also shown\\nwith a red bar (if it happens to be in the top 5). (Right) Five ILSVRC-2010 test images in the ﬁrst column. The\\nremaining columns show the six training images that produce feature vectors in the last hidden layer with the\\nsmallest Euclidean distance from the feature vector for the test image.\\n\\nIn the left panel of Figure 4 we qualitatively assess what the network has learned by computing its\\ntop-5 predictions on eight test images. Notice that even off-center objects, such as the mite in the\\ntop-left, can be recognized by the net. Most of the top-5 labels appear reasonable. For example,\\nonly other types of cat are considered plausible labels for the leopard. In some cases (grille, cherry)\\nthere is genuine ambiguity about the intended focus of the photograph.\\n\\nAnother way to probe the network’s visual knowledge is to consider the feature activations induced\\nby an image at the last, 4096-dimensional hidden layer. If two images produce feature activation\\nvectors with a small Euclidean separation, we can say that the higher levels of the neural network\\nconsider them to be similar. Figure 4 shows ﬁve images from the test set and the six images from\\nthe training set that are most similar to each of them according to this measure. Notice that at the\\npixel level, the retrieved training images are generally not close in L2 to the query images in the ﬁrst\\ncolumn. For example, the retrieved dogs and elephants appear in a variety of poses. We present the\\nresults for many more test images in the supplementary material.\\n\\nComputing similarity by using Euclidean distance between two 4096-dimensional, real-valued vec-\\ntors is inefﬁcient, but it could be made efﬁcient by training an auto-encoder to compress these vectors\\nto short binary codes. This should produce a much better image retrieval method than applying auto-\\nencoders to the raw pixels [14], which does not make use of image labels and hence has a tendency\\nto retrieve images with similar patterns of edges, whether or not they are semantically similar.\\n\\n7 Discussion\\n\\nOur results show that a large, deep convolutional neural network is capable of achieving record-\\nbreaking results on a highly challenging dataset using purely supervised learning.\\nIt is notable\\nthat our network’s performance degrades if a single convolutional layer is removed. For example,\\nremoving any of the middle layers results in a loss of about 2% for the top-1 performance of the\\nnetwork. So the depth really is important for achieving our results.\\n\\nTo simplify our experiments, we did not use any unsupervised pre-training even though we expect\\nthat it will help, especially if we obtain enough computational power to signiﬁcantly increase the\\nsize of the network without obtaining a corresponding increase in the amount of labeled data. Thus\\nfar, our results have improved as we have made our network larger and trained it longer but we still\\nhave many orders of magnitude to go in order to match the infero-temporal pathway of the human\\nvisual system. Ultimately we would like to use very large and deep convolutional nets on video\\nsequences where the temporal structure provides very helpful information that is missing or far less\\nobvious in static images.\\n\\n8\\n\\n\\x0cReferences\\n\\n[1] R.M. Bell and Y. Koren. Lessons from the netﬂix prize challenge. ACM SIGKDD Explorations Newsletter,\\n\\n9(2):75–79, 2007.\\n\\n[2] A. Berg, J. Deng, and L. Fei-Fei.\\n\\nLarge scale visual recognition challenge 2010. www.image-\\n\\nnet.org/challenges. 2010.\\n\\n[3] L. Breiman. Random forests. Machine learning, 45(1):5–32, 2001.\\n[4] D. Cire¸san, U. Meier, and J. Schmidhuber. Multi-column deep neural networks for image classiﬁcation.\\n\\nArxiv preprint arXiv:1202.2745, 2012.\\n\\n[5] D.C. Cire¸san, U. Meier, J. Masci, L.M. Gambardella, and J. Schmidhuber. High-performance neural\\n\\nnetworks for visual object classiﬁcation. Arxiv preprint arXiv:1102.0183, 2011.\\n\\n[6] J. Deng, W. Dong, R. Socher, L.-J. Li, K. Li, and L. Fei-Fei.\\n\\nImageNet: A Large-Scale Hierarchical\\n\\nImage Database. In CVPR09, 2009.\\n\\n[7] J. Deng, A. Berg, S. Satheesh, H. Su, A. Khosla, and L. Fei-Fei.\\nhttp://www.image-net.org/challenges/LSVRC/2012/.\\n\\nILSVRC-2012, 2012. URL\\n\\n[8] L. Fei-Fei, R. Fergus, and P. Perona. Learning generative visual models from few training examples: An\\nincremental bayesian approach tested on 101 object categories. Computer Vision and Image Understand-\\ning, 106(1):59–70, 2007.\\n\\n[9] G. Grifﬁn, A. Holub, and P. Perona. Caltech-256 object category dataset. Technical Report 7694, Cali-\\nfornia Institute of Technology, 2007. URL http://authors.library.caltech.edu/7694.\\n\\n[10] G.E. Hinton, N. Srivastava, A. Krizhevsky, I. Sutskever, and R.R. Salakhutdinov. Improving neural net-\\n\\nworks by preventing co-adaptation of feature detectors. arXiv preprint arXiv:1207.0580, 2012.\\n\\n[11] K. Jarrett, K. Kavukcuoglu, M. A. Ranzato, and Y. LeCun. What is the best multi-stage architecture for\\nobject recognition? In International Conference on Computer Vision, pages 2146–2153. IEEE, 2009.\\n[12] A. Krizhevsky. Learning multiple layers of features from tiny images. Master’s thesis, Department of\\n\\nComputer Science, University of Toronto, 2009.\\n\\n[13] A. Krizhevsky. Convolutional deep belief networks on cifar-10. Unpublished manuscript, 2010.\\n[14] A. Krizhevsky and G.E. Hinton. Using very deep autoencoders for content-based image retrieval.\\n\\nIn\\n\\nESANN, 2011.\\n\\n[15] Y. Le Cun, B. Boser, J.S. Denker, D. Henderson, R.E. Howard, W. Hubbard, L.D. Jackel, et al. Hand-\\nwritten digit recognition with a back-propagation network. In Advances in neural information processing\\nsystems, 1990.\\n\\n[16] Y. LeCun, F.J. Huang, and L. Bottou. Learning methods for generic object recognition with invariance to\\npose and lighting. In Computer Vision and Pattern Recognition, 2004. CVPR 2004. Proceedings of the\\n2004 IEEE Computer Society Conference on, volume 2, pages II–97. IEEE, 2004.\\n\\n[17] Y. LeCun, K. Kavukcuoglu, and C. Farabet. Convolutional networks and applications in vision.\\n\\nIn\\nCircuits and Systems (ISCAS), Proceedings of 2010 IEEE International Symposium on, pages 253–256.\\nIEEE, 2010.\\n\\n[18] H. Lee, R. Grosse, R. Ranganath, and A.Y. Ng. Convolutional deep belief networks for scalable unsuper-\\nvised learning of hierarchical representations. In Proceedings of the 26th Annual International Conference\\non Machine Learning, pages 609–616. ACM, 2009.\\n\\n[19] T. Mensink, J. Verbeek, F. Perronnin, and G. Csurka. Metric Learning for Large Scale Image Classiﬁ-\\ncation: Generalizing to New Classes at Near-Zero Cost. In ECCV - European Conference on Computer\\nVision, Florence, Italy, October 2012.\\n\\n[20] V. Nair and G. E. Hinton. Rectiﬁed linear units improve restricted boltzmann machines. In Proc. 27th\\n\\nInternational Conference on Machine Learning, 2010.\\n\\n[21] N. Pinto, D.D. Cox, and J.J. DiCarlo. Why is real-world visual object recognition hard? PLoS computa-\\n\\ntional biology, 4(1):e27, 2008.\\n\\n[22] N. Pinto, D. Doukhan, J.J. DiCarlo, and D.D. Cox. A high-throughput screening approach to discovering\\ngood forms of biologically inspired visual representation. PLoS computational biology, 5(11):e1000579,\\n2009.\\n\\n[23] B.C. Russell, A. Torralba, K.P. Murphy, and W.T. Freeman. Labelme: a database and web-based tool for\\n\\nimage annotation. International journal of computer vision, 77(1):157–173, 2008.\\n\\n[24] J. Sánchez and F. Perronnin. High-dimensional signature compression for large-scale image classiﬁcation.\\nIn Computer Vision and Pattern Recognition (CVPR), 2011 IEEE Conference on, pages 1665–1672. IEEE,\\n2011.\\n\\n[25] P.Y. Simard, D. Steinkraus, and J.C. Platt. Best practices for convolutional neural networks applied to\\nvisual document analysis. In Proceedings of the Seventh International Conference on Document Analysis\\nand Recognition, volume 2, pages 958–962, 2003.\\n\\n[26] S.C. Turaga, J.F. Murray, V. Jain, F. Roth, M. Helmstaedter, K. Briggman, W. Denk, and H.S. Seung. Con-\\nvolutional networks can learn to generate afﬁnity graphs for image segmentation. Neural Computation,\\n22(2):511–538, 2010.\\n\\n9\\n\\n\\x0c'"
      ]
     },
     "execution_count": 120,
     "metadata": {},
     "output_type": "execute_result"
    }
   ],
   "source": [
    "text"
   ]
  },
  {
   "cell_type": "code",
   "execution_count": 140,
   "id": "902fff4d",
   "metadata": {},
   "outputs": [],
   "source": [
    "textList = text.replace('\\n','OOV').split('OOV')"
   ]
  },
  {
   "cell_type": "code",
   "execution_count": 142,
   "id": "04078d47",
   "metadata": {},
   "outputs": [
    {
     "data": {
      "text/plain": [
       "15"
      ]
     },
     "execution_count": 142,
     "metadata": {},
     "output_type": "execute_result"
    }
   ],
   "source": [
    "textList.index('Abstract')"
   ]
  },
  {
   "cell_type": "code",
   "execution_count": 143,
   "id": "d9ec6905",
   "metadata": {},
   "outputs": [],
   "source": [
    "textList = textList[15:]"
   ]
  },
  {
   "cell_type": "code",
   "execution_count": 144,
   "id": "eecfdecd",
   "metadata": {},
   "outputs": [
    {
     "data": {
      "text/plain": [
       "0"
      ]
     },
     "execution_count": 144,
     "metadata": {},
     "output_type": "execute_result"
    }
   ],
   "source": [
    "textList.index('Abstract')"
   ]
  },
  {
   "cell_type": "code",
   "execution_count": 151,
   "id": "54301f4d",
   "metadata": {},
   "outputs": [
    {
     "name": "stdout",
     "output_type": "stream",
     "text": [
      "15\n"
     ]
    }
   ],
   "source": [
    "cnt = 0\n",
    "for i in range(len(textList)):\n",
    "    if len(textList[i]) == 0:\n",
    "        cnt += 1\n",
    "    if cnt == 2:\n",
    "        print(i)\n",
    "        break\n",
    "        "
   ]
  },
  {
   "cell_type": "code",
   "execution_count": 154,
   "id": "4ddf8447",
   "metadata": {},
   "outputs": [],
   "source": [
    "text = ' '.join(textList[2:15])"
   ]
  },
  {
   "cell_type": "code",
   "execution_count": 155,
   "id": "e71aeb4b",
   "metadata": {},
   "outputs": [
    {
     "data": {
      "text/plain": [
       "['We',\n",
       " 'trained',\n",
       " 'a',\n",
       " 'large,',\n",
       " 'deep',\n",
       " 'convolutional',\n",
       " 'neural',\n",
       " 'network',\n",
       " 'to',\n",
       " 'classify',\n",
       " 'the',\n",
       " '1.2',\n",
       " 'million',\n",
       " 'high-resolution',\n",
       " 'images',\n",
       " 'in',\n",
       " 'the',\n",
       " 'ImageNet',\n",
       " 'LSVRC-2010',\n",
       " 'contest',\n",
       " 'into',\n",
       " 'the',\n",
       " '1000',\n",
       " 'dif-',\n",
       " 'ferent',\n",
       " 'classes.',\n",
       " 'On',\n",
       " 'the',\n",
       " 'test',\n",
       " 'data,',\n",
       " 'we',\n",
       " 'achieved',\n",
       " 'top-1',\n",
       " 'and',\n",
       " 'top-5',\n",
       " 'error',\n",
       " 'rates',\n",
       " 'of',\n",
       " '37.5%',\n",
       " 'and',\n",
       " '17.0%',\n",
       " 'which',\n",
       " 'is',\n",
       " 'considerably',\n",
       " 'better',\n",
       " 'than',\n",
       " 'the',\n",
       " 'previous',\n",
       " 'state-of-the-art.',\n",
       " 'The',\n",
       " 'neural',\n",
       " 'network,',\n",
       " 'which',\n",
       " 'has',\n",
       " '60',\n",
       " 'million',\n",
       " 'parameters',\n",
       " 'and',\n",
       " '650,000',\n",
       " 'neurons,',\n",
       " 'consists',\n",
       " 'of',\n",
       " 'ﬁve',\n",
       " 'convolutional',\n",
       " 'layers,',\n",
       " 'some',\n",
       " 'of',\n",
       " 'which',\n",
       " 'are',\n",
       " 'followed',\n",
       " 'by',\n",
       " 'max-pooling',\n",
       " 'layers,',\n",
       " 'and',\n",
       " 'three',\n",
       " 'fully-connected',\n",
       " 'layers',\n",
       " 'with',\n",
       " 'a',\n",
       " 'ﬁnal',\n",
       " '1000-way',\n",
       " 'softmax.',\n",
       " 'To',\n",
       " 'make',\n",
       " 'train-',\n",
       " 'ing',\n",
       " 'faster,',\n",
       " 'we',\n",
       " 'used',\n",
       " 'non-saturating',\n",
       " 'neurons',\n",
       " 'and',\n",
       " 'a',\n",
       " 'very',\n",
       " 'efﬁcient',\n",
       " 'GPU',\n",
       " 'implemen-',\n",
       " 'tation',\n",
       " 'of',\n",
       " 'the',\n",
       " 'convolution',\n",
       " 'operation.',\n",
       " 'To',\n",
       " 'reduce',\n",
       " 'overﬁtting',\n",
       " 'in',\n",
       " 'the',\n",
       " 'fully-connected',\n",
       " 'layers',\n",
       " 'we',\n",
       " 'employed',\n",
       " 'a',\n",
       " 'recently-developed',\n",
       " 'regularization',\n",
       " 'method',\n",
       " 'called',\n",
       " '“dropout”',\n",
       " 'that',\n",
       " 'proved',\n",
       " 'to',\n",
       " 'be',\n",
       " 'very',\n",
       " 'effective.',\n",
       " 'We',\n",
       " 'also',\n",
       " 'entered',\n",
       " 'a',\n",
       " 'variant',\n",
       " 'of',\n",
       " 'this',\n",
       " 'model',\n",
       " 'in',\n",
       " 'the',\n",
       " 'ILSVRC-2012',\n",
       " 'competition',\n",
       " 'and',\n",
       " 'achieved',\n",
       " 'a',\n",
       " 'winning',\n",
       " 'top-5',\n",
       " 'test',\n",
       " 'error',\n",
       " 'rate',\n",
       " 'of',\n",
       " '15.3%,',\n",
       " 'compared',\n",
       " 'to',\n",
       " '26.2%',\n",
       " 'achieved',\n",
       " 'by',\n",
       " 'the',\n",
       " 'second-best',\n",
       " 'entry.']"
      ]
     },
     "execution_count": 155,
     "metadata": {},
     "output_type": "execute_result"
    }
   ],
   "source": [
    "text.split()"
   ]
  },
  {
   "cell_type": "code",
   "execution_count": 158,
   "id": "2f3178c0",
   "metadata": {},
   "outputs": [],
   "source": [
    "text2 = re.sub('[^a-zA-Z\\s]','',text)"
   ]
  },
  {
   "cell_type": "code",
   "execution_count": 159,
   "id": "4f9409dd",
   "metadata": {},
   "outputs": [
    {
     "data": {
      "text/plain": [
       "'We trained a large deep convolutional neural network to classify the  million highresolution images in the ImageNet LSVRC contest into the  dif ferent classes On the test data we achieved top and top error rates of  and  which is considerably better than the previous stateoftheart The neural network which has  million parameters and  neurons consists of ve convolutional layers some of which are followed by maxpooling layers and three fullyconnected layers with a nal way softmax To make train ing faster we used nonsaturating neurons and a very efcient GPU implemen tation of the convolution operation To reduce overtting in the fullyconnected layers we employed a recentlydeveloped regularization method called dropout that proved to be very effective We also entered a variant of this model in the ILSVRC competition and achieved a winning top test error rate of  compared to  achieved by the secondbest entry'"
      ]
     },
     "execution_count": 159,
     "metadata": {},
     "output_type": "execute_result"
    }
   ],
   "source": [
    "text2"
   ]
  },
  {
   "cell_type": "code",
   "execution_count": null,
   "id": "8660acc8",
   "metadata": {},
   "outputs": [],
   "source": []
  }
 ],
 "metadata": {
  "kernelspec": {
   "display_name": "Python 3 (ipykernel)",
   "language": "python",
   "name": "python3"
  },
  "language_info": {
   "codemirror_mode": {
    "name": "ipython",
    "version": 3
   },
   "file_extension": ".py",
   "mimetype": "text/x-python",
   "name": "python",
   "nbconvert_exporter": "python",
   "pygments_lexer": "ipython3",
   "version": "3.8.13"
  }
 },
 "nbformat": 4,
 "nbformat_minor": 5
}
