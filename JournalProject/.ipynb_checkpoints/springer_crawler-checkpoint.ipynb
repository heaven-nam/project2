{
 "cells": [
  {
   "cell_type": "code",
   "execution_count": 1,
   "id": "d83e214d",
   "metadata": {},
   "outputs": [],
   "source": [
    "from requests import get\n",
    "from bs4 import BeautifulSoup\n",
    "import re\n",
    "import pandas as pd\n",
    "from urllib.parse import urlencode, parse_qs, urlparse\n",
    "import time\n",
    "import random\n",
    "import warnings\n",
    "warnings.filterwarnings('ignore')"
   ]
  },
  {
   "cell_type": "code",
   "execution_count": 18,
   "id": "94a7a4fc",
   "metadata": {},
   "outputs": [
    {
     "data": {
      "text/plain": [
       "ParseResult(scheme='https', netloc='link.springer.com', path='/search/page/2', params='', query='facet-language=%22En%22&facet-discipline=%22Mathematics%22&query=harmonic+analysis&facet-content-type=%22Article%22', fragment='')"
      ]
     },
     "execution_count": 18,
     "metadata": {},
     "output_type": "execute_result"
    }
   ],
   "source": [
    "url = 'https://link.springer.com/search/page/2?facet-language=%22En%22&facet-discipline=%22Mathematics%22&query=harmonic+analysis&facet-content-type=%22Article%22'\n",
    "parsed = urlparse(url)\n",
    "qs = parse_qs(parsed.query)\n",
    "parsed"
   ]
  },
  {
   "cell_type": "code",
   "execution_count": 19,
   "id": "7cc48d6b",
   "metadata": {},
   "outputs": [],
   "source": [
    "df = pd.DataFrame(columns=['title','abstract','author','journal','year','pdf_link','keyword'])"
   ]
  },
  {
   "cell_type": "code",
   "execution_count": 20,
   "id": "4d8280fc",
   "metadata": {},
   "outputs": [],
   "source": [
    "page = '1'"
   ]
  },
  {
   "cell_type": "code",
   "execution_count": 21,
   "id": "9f6d1b24",
   "metadata": {},
   "outputs": [],
   "source": [
    "for k,v in qs.items():\n",
    "    qs[k] = v[0]"
   ]
  },
  {
   "cell_type": "code",
   "execution_count": 22,
   "id": "6e68c963",
   "metadata": {},
   "outputs": [
    {
     "data": {
      "text/plain": [
       "{'facet-language': '\"En\"',\n",
       " 'facet-discipline': '\"Mathematics\"',\n",
       " 'query': 'harmonic analysis',\n",
       " 'facet-content-type': '\"Article\"'}"
      ]
     },
     "execution_count": 22,
     "metadata": {},
     "output_type": "execute_result"
    }
   ],
   "source": [
    "qs"
   ]
  },
  {
   "cell_type": "code",
   "execution_count": 23,
   "id": "67efc031",
   "metadata": {},
   "outputs": [],
   "source": [
    "baseurl = 'https://link.springer.com/search/page/' + page + '?' + urlencode(qs)"
   ]
  },
  {
   "cell_type": "code",
   "execution_count": 24,
   "id": "6844bfa9",
   "metadata": {},
   "outputs": [],
   "source": [
    "headers = {'User-Agent':'Mozilla/5.0 (Windows NT 10.0; Win64; x64) AppleWebKit/537.36 (KHTML, like Gecko) Chrome/107.0.0.0 Safari/537.36'}"
   ]
  },
  {
   "cell_type": "code",
   "execution_count": 25,
   "id": "c12b0db0",
   "metadata": {},
   "outputs": [],
   "source": [
    "resp = get(baseurl,headers=headers)"
   ]
  },
  {
   "cell_type": "code",
   "execution_count": 26,
   "id": "959b742c",
   "metadata": {},
   "outputs": [
    {
     "data": {
      "text/plain": [
       "200"
      ]
     },
     "execution_count": 26,
     "metadata": {},
     "output_type": "execute_result"
    }
   ],
   "source": [
    "resp.status_code"
   ]
  },
  {
   "cell_type": "code",
   "execution_count": 27,
   "id": "9d7dc1a6",
   "metadata": {},
   "outputs": [],
   "source": [
    "dom = BeautifulSoup(resp.text, 'html.parser')"
   ]
  },
  {
   "cell_type": "code",
   "execution_count": 28,
   "id": "dd6c3083",
   "metadata": {},
   "outputs": [],
   "source": [
    "ol = dom.find('ol',attrs={'id':'results-list'})"
   ]
  },
  {
   "cell_type": "code",
   "execution_count": 29,
   "id": "cb139987",
   "metadata": {},
   "outputs": [],
   "source": [
    "li = ol.find_all('li',recursive=False)"
   ]
  },
  {
   "cell_type": "code",
   "execution_count": 30,
   "id": "575fd680",
   "metadata": {},
   "outputs": [
    {
     "name": "stdout",
     "output_type": "stream",
     "text": [
      "/article/10.1023/A%3A1022379714328 Book Review W. O. Bray, Č. V. Stanojević, eds.: Analysis of Divergence. Control and Management of Divergent Processes. Applied and Numerical Harmonic Analysis. Birkhäuser Verlag, Basel-Berlin-Boston, 1998, 592 Pages, ISBN 3-7643-4058-4, hardcover DM 168,–\n",
      "/article/10.1007/s00526-019-1617-x Correction to: Asymptotic analysis for Dirac-harmonic maps from degenerating spin surfaces and with bounded index\n",
      "/article/10.1007/s00526-017-1202-0 Blow-up analysis for approximate Dirac-harmonic maps in dimension 2 with applications to the Dirac-harmonic heat flow\n",
      "/article/10.1007/s10688-006-0006-3 On harmonic analysis of causal operators\n",
      "/article/10.1007/s10958-012-0722-6 Harmonic analysis on the infinite-dimensional unitary group\n",
      "/article/10.1007/BF02925566 Some approximation problems in harmonic analysis\n",
      "/article/10.1007/s00407-007-0003-9 The acoustic origins of harmonic analysis\n",
      "/article/10.1007/BF03051860 Harmonic analysis of the spatial flow of an incompressible viscous fluid\n",
      "/article/10.1007/BF01455799 Applications of the theory of Hardy spaces to harmonic analysis on the Heisenberg group\n",
      "/article/10.1007/s40324-020-00235-w Symmetry problems in harmonic analysis\n",
      "/article/10.1007/BF01781968 Note on the tensor products and harmonic analysis\n",
      "/article/10.1134/S1064562411040016 The berezin form and harmonic analysis on a pair of hyperboloids\n",
      "/article/10.1007/BF01768664 Harmonic analysis and the global exponential map for compact Lie groups\n",
      "/article/10.1007/BF01350586 Nonarchimedean harmonic analysis and analytic functions\n",
      "/article/10.1134/S106456241107026X Harmonic analysis and the Riemann-Roch theorem\n",
      "/article/10.1007/s10483-009-0902-7 Homotopy analysis approach to Duffing-harmonic oscillator\n",
      "/article/10.1007/s10483-011-1388-x Analysis method of chaos and sub-harmonic resonance of nonlinear system without small parameters\n",
      "/article/10.1007/BF02546511 Generalized harmonic analysis\n",
      "/article/10.1007/s11072-010-0079-z Asymptotic analysis of the mathematical expectation of the total energy of a harmonic oscillator under random pulse perturbation\n",
      "/article/10.1007/BF02836592 Integration of a zonal function related to the local harmonic analysis on spheres\n"
     ]
    }
   ],
   "source": [
    "for l in li:\n",
    "    a = l.find('a',attrs={'class':'title'})\n",
    "    print(a.attrs['href'], a.text)"
   ]
  },
  {
   "cell_type": "code",
   "execution_count": 31,
   "id": "b5831de1",
   "metadata": {},
   "outputs": [
    {
     "name": "stdout",
     "output_type": "stream",
     "text": [
      "sleep for 4s\n",
      "sleep for 13s\n",
      "sleep for 12s\n",
      "sleep for 9s\n",
      "sleep for 14s\n",
      "sleep for 4s\n",
      "sleep for 7s\n",
      "sleep for 5s\n",
      "sleep for 11s\n",
      "sleep for 10s\n",
      "sleep for 12s\n",
      "sleep for 7s\n",
      "sleep for 6s\n",
      "sleep for 13s\n",
      "sleep for 8s\n",
      "sleep for 10s\n",
      "sleep for 7s\n",
      "sleep for 9s\n",
      "sleep for 14s\n",
      "sleep for 10s\n",
      "sleep for 10s\n",
      "sleep for 4s\n",
      "sleep for 13s\n",
      "sleep for 4s\n",
      "sleep for 8s\n",
      "sleep for 11s\n",
      "sleep for 7s\n",
      "sleep for 4s\n",
      "sleep for 14s\n",
      "sleep for 9s\n",
      "sleep for 5s\n",
      "sleep for 3s\n",
      "sleep for 3s\n",
      "sleep for 13s\n",
      "sleep for 7s\n",
      "sleep for 8s\n",
      "sleep for 12s\n",
      "sleep for 10s\n",
      "sleep for 10s\n",
      "sleep for 5s\n",
      "sleep for 9s\n",
      "sleep for 14s\n"
     ]
    }
   ],
   "source": [
    "urls = list()\n",
    "visited = list()\n",
    "pages = [1,2,3]\n",
    "baseurl = 'https://link.springer.com'\n",
    "\n",
    "for page in pages:\n",
    "    url = 'https://link.springer.com/search/page/' + str(page) + '?' + urlencode(qs)\n",
    "    urls.append((url,0))\n",
    "\n",
    "while urls:\n",
    "    seed = urls.pop(0)\n",
    "    visited.append(seed[0])\n",
    "    \n",
    "    resp = get(seed[0], headers=headers)\n",
    "    \n",
    "    if resp.status_code != 200:\n",
    "        print(resp)\n",
    "        break\n",
    "        \n",
    "    else:\n",
    "        data = dict()\n",
    "        dom = BeautifulSoup(resp.text, 'html.parser')\n",
    "        if seed[1] == 0:\n",
    "            ol = dom.find('ol',attrs={'id':'results-list'})\n",
    "            li = ol.find_all('li',recursive=False)\n",
    "            for l in li:\n",
    "                a = l.find('a',attrs={'class':'title'})\n",
    "                link = baseurl + a.attrs['href']\n",
    "                if link not in (visited and urls):\n",
    "                    urls.append((link,1))\n",
    "        if seed[1] == 1:\n",
    "            resp = get(seed[0], headers = headers)\n",
    "            dom = BeautifulSoup(resp.text, 'html.parser')\n",
    "            try:\n",
    "                title = dom.find('h1', attrs={'class':'c-article-title'}).text\n",
    "                data['title'] = [title]\n",
    "                abst = dom.find('div', attrs={'id':'Abs1-content'})\n",
    "                data['abstract'] = [abst.text]\n",
    "                author = dom.find('ul', attrs={'data-test':'authors-list'})\n",
    "                data['author'] = author.text[:-2]\n",
    "                journal = dom.find('a', attrs={'data-test':'journal-link'}).text\n",
    "                data['journal'] = [journal]\n",
    "                year = dom.find('span', attrs={'data-test':'article-publication-year'}).text\n",
    "                data['year'] = [year]\n",
    "                data['pdf_link'] = [seed[0]]\n",
    "                keywords = list()\n",
    "                keyul = dom.find('ul', attrs={'class':'c-article-subject-list'}).find_all('li', recursive=False)\n",
    "                for key in keyul:\n",
    "                    keywords.append(key.text)\n",
    "                data['keyword'] = [','.join(keywords)]\n",
    "                data = pd.DataFrame(data)\n",
    "                df = pd.concat([df,data])\n",
    "                visited.append(seed[0])\n",
    "            except:\n",
    "                continue\n",
    "    sleeping = random.randrange(3,8)\n",
    "    print('sleep for {}s'.format(sleeping))\n",
    "    time.sleep(sleeping)"
   ]
  },
  {
   "cell_type": "code",
   "execution_count": 33,
   "id": "88c638b9",
   "metadata": {},
   "outputs": [
    {
     "name": "stdout",
     "output_type": "stream",
     "text": [
      "<class 'pandas.core.frame.DataFrame'>\n",
      "Int64Index: 39 entries, 0 to 0\n",
      "Data columns (total 7 columns):\n",
      " #   Column    Non-Null Count  Dtype \n",
      "---  ------    --------------  ----- \n",
      " 0   title     39 non-null     object\n",
      " 1   abstract  39 non-null     object\n",
      " 2   author    39 non-null     object\n",
      " 3   journal   39 non-null     object\n",
      " 4   year      39 non-null     object\n",
      " 5   pdf_link  39 non-null     object\n",
      " 6   keyword   39 non-null     object\n",
      "dtypes: object(7)\n",
      "memory usage: 2.4+ KB\n"
     ]
    }
   ],
   "source": [
    "df.info()"
   ]
  },
  {
   "cell_type": "code",
   "execution_count": null,
   "id": "fe8a32d5",
   "metadata": {},
   "outputs": [],
   "source": []
  }
 ],
 "metadata": {
  "kernelspec": {
   "display_name": "Python 3 (ipykernel)",
   "language": "python",
   "name": "python3"
  },
  "language_info": {
   "codemirror_mode": {
    "name": "ipython",
    "version": 3
   },
   "file_extension": ".py",
   "mimetype": "text/x-python",
   "name": "python",
   "nbconvert_exporter": "python",
   "pygments_lexer": "ipython3",
   "version": "3.8.13"
  }
 },
 "nbformat": 4,
 "nbformat_minor": 5
}
